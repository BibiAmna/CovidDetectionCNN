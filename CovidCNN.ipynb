{
  "nbformat": 4,
  "nbformat_minor": 0,
  "metadata": {
    "colab": {
      "provenance": []
    },
    "kernelspec": {
      "name": "python3",
      "display_name": "Python 3"
    },
    "language_info": {
      "name": "python"
    },
    "accelerator": "GPU"
  },
  "cells": [
    {
      "cell_type": "code",
      "metadata": {
        "colab": {
          "base_uri": "https://localhost:8080/"
        },
        "id": "goiejH0Op57w",
        "outputId": "f727127b-4c08-421b-95b6-a0baf494e16a"
      },
      "source": [
        "from google.colab import drive\n",
        "drive.mount('/content/drive')"
      ],
      "execution_count": 1,
      "outputs": [
        {
          "output_type": "stream",
          "name": "stdout",
          "text": [
            "Mounted at /content/drive\n"
          ]
        }
      ]
    },
    {
      "cell_type": "markdown",
      "metadata": {
        "id": "gMFdyWdP08dk"
      },
      "source": [
        "Loading the 200x200 dataset"
      ]
    },
    {
      "cell_type": "code",
      "metadata": {
        "id": "l12F9M4numhv"
      },
      "source": [
        "cd ./drive/MyDrive/COVIDNORMALDATASET/"
      ],
      "execution_count": null,
      "outputs": []
    },
    {
      "cell_type": "code",
      "metadata": {
        "id": "sESDeqPnvCAe"
      },
      "source": [
        "import tensorflow as tf\n",
        "from tensorflow.keras import optimizers\n",
        "from tensorflow.keras.models import Sequential\n",
        "from tensorflow.keras.layers import Flatten, Dense, Conv2D, MaxPooling2D\n",
        "from tensorflow.keras.layers import Dropout, BatchNormalization, LeakyReLU, Activation, AvgPool2D, MaxPool2D\n",
        "from tensorflow.keras.callbacks import EarlyStopping, ReduceLROnPlateau"
      ],
      "execution_count": null,
      "outputs": []
    },
    {
      "cell_type": "markdown",
      "metadata": {
        "id": "76lbKNjjVBTY"
      },
      "source": [
        "##**Loading Data**"
      ]
    },
    {
      "cell_type": "code",
      "metadata": {
        "id": "dFdLdvGPUIV4"
      },
      "source": [
        "from numpy import load,save\n",
        "import numpy as np\n",
        "X_train= np.load('./60DATA.npy')\n",
        "y_train= np.load('./60LABELS.npy')\n",
        "X_test=np.load('./40DATA.npy')\n",
        "y_test=np.load('./40LABELS.npy')"
      ],
      "execution_count": null,
      "outputs": []
    },
    {
      "cell_type": "markdown",
      "metadata": {
        "id": "SxlhYRln1jwY"
      },
      "source": [
        "**Loading External dataset1**"
      ]
    },
    {
      "cell_type": "code",
      "metadata": {
        "colab": {
          "base_uri": "https://localhost:8080/"
        },
        "id": "7a-H37t51_Nj",
        "outputId": "be6ccaae-ed70-4d4e-ca05-e38640aa3881"
      },
      "source": [
        "cd .."
      ],
      "execution_count": null,
      "outputs": [
        {
          "output_type": "stream",
          "text": [
            "/content/drive/My Drive\n"
          ],
          "name": "stdout"
        }
      ]
    },
    {
      "cell_type": "code",
      "metadata": {
        "id": "zEtvvSQF1pBd"
      },
      "source": [
        "ED1= np.load('./EXTERNAL2/External2Data.npy')\n",
        "EL1= np.load('./EXTERNAL2/External2Labels.npy')"
      ],
      "execution_count": null,
      "outputs": []
    },
    {
      "cell_type": "code",
      "metadata": {
        "id": "l948zcmdxRBQ"
      },
      "source": [
        "ED1= X_test\n",
        "EL1=y_test"
      ],
      "execution_count": null,
      "outputs": []
    },
    {
      "cell_type": "code",
      "metadata": {
        "colab": {
          "base_uri": "https://localhost:8080/"
        },
        "id": "PDOLWld9dTP6",
        "outputId": "7f4a8454-1577-4cfd-f3ed-9a6b8549c2fb"
      },
      "source": [
        "cd ./COVIDNORMALDATASET"
      ],
      "execution_count": null,
      "outputs": [
        {
          "output_type": "stream",
          "text": [
            "/content/drive/My Drive/COVIDNORMALDATASET\n"
          ],
          "name": "stdout"
        }
      ]
    },
    {
      "cell_type": "markdown",
      "metadata": {
        "id": "gOADDC2YrX1h"
      },
      "source": [
        "**Building Model**"
      ]
    },
    {
      "cell_type": "code",
      "metadata": {
        "id": "OEOGNQh-dgW9"
      },
      "source": [
        "cd ./COVIDNORMALDATASET/"
      ],
      "execution_count": null,
      "outputs": []
    },
    {
      "cell_type": "code",
      "metadata": {
        "id": "Vt3Gh7bvvV0T"
      },
      "source": [
        "IMG_WIDTH=200\n",
        "IMG_HEIGHT=200"
      ],
      "execution_count": null,
      "outputs": []
    },
    {
      "cell_type": "code",
      "metadata": {
        "id": "pZaDNSGmtW_l"
      },
      "source": [
        "model = Sequential()\n",
        "model.add(Conv2D(42, (3,3), input_shape=(IMG_WIDTH, IMG_HEIGHT, 3)))            #convulational 2D layer\n",
        "model.add(Activation('relu'))                                                   #Activation function RELU\n",
        "model.add(MaxPooling2D(pool_size=(2, 2)))                                       #MaxPooling 2D layer\n",
        "\n",
        "model.add(Conv2D(42, (3,3)))\n",
        "model.add(Activation('relu'))\n",
        "model.add(MaxPooling2D(pool_size=(2, 2)))\n",
        "\n",
        "\n",
        "model.add(Conv2D(64,(3,3)))\n",
        "model.add(Activation(\"relu\"))\n",
        "model.add(Conv2D(250,(3,3)))\n",
        "model.add(Activation(\"relu\"))\n",
        "\n",
        "model.add(Conv2D(128,(3,3)))\n",
        "model.add(Activation(\"relu\"))\n",
        "model.add(AvgPool2D(2,2))\n",
        "\n",
        "model.add(Conv2D(64,(3,3)))\n",
        "model.add(Activation(\"relu\"))\n",
        "model.add(AvgPool2D(2,2))\n",
        "\n",
        "model.add(Conv2D(128,(3,3)))\n",
        "model.add(Activation(\"relu\"))\n",
        "model.add(MaxPool2D(2,2))\n",
        "\n",
        "model.add(Conv2D(256,(3,3)))\n",
        "model.add(Activation(\"relu\"))\n",
        "\n",
        "model.add(Flatten())                                                          #Flatten Layer\n",
        "model.add(Dense(32))                                                          #Dense Layer previously 32\n",
        "model.add(Dropout(0.20))                                                      # Dropout 20% previously .25\n",
        "model.add(Dense(1))\n",
        "model.add(Activation(\"sigmoid\"))                                              #Activation Function Sigmoid"
      ],
      "execution_count": null,
      "outputs": []
    },
    {
      "cell_type": "code",
      "metadata": {
        "id": "43q7FXlMfai4",
        "colab": {
          "base_uri": "https://localhost:8080/"
        },
        "outputId": "1e64d833-56bf-48dd-b4e1-5dcfa11b4e34"
      },
      "source": [
        "model.summary()"
      ],
      "execution_count": null,
      "outputs": [
        {
          "output_type": "stream",
          "text": [
            "Model: \"sequential_1\"\n",
            "_________________________________________________________________\n",
            "Layer (type)                 Output Shape              Param #   \n",
            "=================================================================\n",
            "conv2d_8 (Conv2D)            (None, 198, 198, 42)      1176      \n",
            "_________________________________________________________________\n",
            "activation_9 (Activation)    (None, 198, 198, 42)      0         \n",
            "_________________________________________________________________\n",
            "max_pooling2d_3 (MaxPooling2 (None, 99, 99, 42)        0         \n",
            "_________________________________________________________________\n",
            "conv2d_9 (Conv2D)            (None, 97, 97, 42)        15918     \n",
            "_________________________________________________________________\n",
            "activation_10 (Activation)   (None, 97, 97, 42)        0         \n",
            "_________________________________________________________________\n",
            "max_pooling2d_4 (MaxPooling2 (None, 48, 48, 42)        0         \n",
            "_________________________________________________________________\n",
            "conv2d_10 (Conv2D)           (None, 46, 46, 64)        24256     \n",
            "_________________________________________________________________\n",
            "activation_11 (Activation)   (None, 46, 46, 64)        0         \n",
            "_________________________________________________________________\n",
            "conv2d_11 (Conv2D)           (None, 44, 44, 250)       144250    \n",
            "_________________________________________________________________\n",
            "activation_12 (Activation)   (None, 44, 44, 250)       0         \n",
            "_________________________________________________________________\n",
            "conv2d_12 (Conv2D)           (None, 42, 42, 128)       288128    \n",
            "_________________________________________________________________\n",
            "activation_13 (Activation)   (None, 42, 42, 128)       0         \n",
            "_________________________________________________________________\n",
            "average_pooling2d_2 (Average (None, 21, 21, 128)       0         \n",
            "_________________________________________________________________\n",
            "conv2d_13 (Conv2D)           (None, 19, 19, 64)        73792     \n",
            "_________________________________________________________________\n",
            "activation_14 (Activation)   (None, 19, 19, 64)        0         \n",
            "_________________________________________________________________\n",
            "average_pooling2d_3 (Average (None, 9, 9, 64)          0         \n",
            "_________________________________________________________________\n",
            "conv2d_14 (Conv2D)           (None, 7, 7, 128)         73856     \n",
            "_________________________________________________________________\n",
            "activation_15 (Activation)   (None, 7, 7, 128)         0         \n",
            "_________________________________________________________________\n",
            "max_pooling2d_5 (MaxPooling2 (None, 3, 3, 128)         0         \n",
            "_________________________________________________________________\n",
            "conv2d_15 (Conv2D)           (None, 1, 1, 256)         295168    \n",
            "_________________________________________________________________\n",
            "activation_16 (Activation)   (None, 1, 1, 256)         0         \n",
            "_________________________________________________________________\n",
            "flatten_1 (Flatten)          (None, 256)               0         \n",
            "_________________________________________________________________\n",
            "dense_2 (Dense)              (None, 32)                8224      \n",
            "_________________________________________________________________\n",
            "dropout_1 (Dropout)          (None, 32)                0         \n",
            "_________________________________________________________________\n",
            "dense_3 (Dense)              (None, 1)                 33        \n",
            "_________________________________________________________________\n",
            "activation_17 (Activation)   (None, 1)                 0         \n",
            "=================================================================\n",
            "Total params: 924,801\n",
            "Trainable params: 924,801\n",
            "Non-trainable params: 0\n",
            "_________________________________________________________________\n"
          ],
          "name": "stdout"
        }
      ]
    },
    {
      "cell_type": "code",
      "metadata": {
        "id": "7MEgUuk8OHPh"
      },
      "source": [
        "optim= tf.keras.optimizers.Nadam(learning_rate=0.0001, beta_1=0.9, beta_2=0.999, epsilon=1e-07,name='Nadam',\n",
        ")"
      ],
      "execution_count": null,
      "outputs": []
    },
    {
      "cell_type": "markdown",
      "metadata": {
        "id": "0Movr7zwH_7-"
      },
      "source": []
    },
    {
      "cell_type": "code",
      "metadata": {
        "id": "wX_ARz97fcjp"
      },
      "source": [
        "model.compile(loss='binary_crossentropy',\n",
        "              optimizer=optim,\n",
        "              metrics=['accuracy'])"
      ],
      "execution_count": null,
      "outputs": []
    },
    {
      "cell_type": "code",
      "metadata": {
        "id": "0aP_KvKSVj6v",
        "colab": {
          "base_uri": "https://localhost:8080/"
        },
        "outputId": "303bd474-32fb-4fc0-9c97-e8ceaa83b4d9"
      },
      "source": [
        "batch_size = 64 #batch size of 32 performs the best.\n",
        "epochs = 10\n",
        "history=model.fit(x=X_train, y=y_train,epochs=epochs, batch_size=batch_size)"
      ],
      "execution_count": null,
      "outputs": [
        {
          "output_type": "stream",
          "text": [
            "Epoch 1/10\n",
            "68/68 [==============================] - 13s 167ms/step - loss: 0.6589 - accuracy: 0.5918\n",
            "Epoch 2/10\n",
            "68/68 [==============================] - 9s 132ms/step - loss: 0.5697 - accuracy: 0.6992\n",
            "Epoch 3/10\n",
            "68/68 [==============================] - 9s 131ms/step - loss: 0.5210 - accuracy: 0.7338\n",
            "Epoch 4/10\n",
            "68/68 [==============================] - 9s 131ms/step - loss: 0.4913 - accuracy: 0.7640\n",
            "Epoch 5/10\n",
            "68/68 [==============================] - 9s 129ms/step - loss: 0.4461 - accuracy: 0.7838\n",
            "Epoch 6/10\n",
            "68/68 [==============================] - 9s 128ms/step - loss: 0.4106 - accuracy: 0.8036\n",
            "Epoch 7/10\n",
            "68/68 [==============================] - 9s 128ms/step - loss: 0.3692 - accuracy: 0.8285\n",
            "Epoch 8/10\n",
            "68/68 [==============================] - 9s 129ms/step - loss: 0.3502 - accuracy: 0.8398\n",
            "Epoch 9/10\n",
            "68/68 [==============================] - 9s 129ms/step - loss: 0.3180 - accuracy: 0.8560\n",
            "Epoch 10/10\n",
            "68/68 [==============================] - 9s 129ms/step - loss: 0.3129 - accuracy: 0.8603\n"
          ],
          "name": "stdout"
        }
      ]
    },
    {
      "cell_type": "markdown",
      "metadata": {
        "id": "Sl0WbG3Zzshw"
      },
      "source": [
        "**Saving Model**"
      ]
    },
    {
      "cell_type": "code",
      "metadata": {
        "id": "LKfCh3FQzxCH"
      },
      "source": [
        "# model1_yaml = model.to_yaml()\n",
        "# with open(\"60model.yaml\", \"w\") as yaml_file:\n",
        "#     yaml_file.write(model1_yaml)\n",
        "#     model.save(\"60model.h5\")"
      ],
      "execution_count": null,
      "outputs": []
    },
    {
      "cell_type": "markdown",
      "metadata": {
        "id": "4xd82TYT2S-w"
      },
      "source": [
        "#**Evaluation**"
      ]
    },
    {
      "cell_type": "code",
      "metadata": {
        "id": "jSbnGX8b2Tvy",
        "colab": {
          "base_uri": "https://localhost:8080/",
          "height": 530
        },
        "outputId": "db919d6b-4976-4002-a7d8-b2b90772fb67"
      },
      "source": [
        "import pandas as pd\n",
        "history_df = pd.DataFrame(history.history)\n",
        "history_df[['loss']].plot()\n",
        "history_df[['accuracy']].plot()"
      ],
      "execution_count": null,
      "outputs": [
        {
          "output_type": "execute_result",
          "data": {
            "text/plain": [
              "<matplotlib.axes._subplots.AxesSubplot at 0x7fb80d714350>"
            ]
          },
          "metadata": {
            "tags": []
          },
          "execution_count": 56
        },
        {
          "output_type": "display_data",
          "data": {
            "image/png": "[encoded data removed]",
            "text/plain": [
              "<Figure size 432x288 with 1 Axes>"
            ]
          },
          "metadata": {
            "tags": [],
            "needs_background": "light"
          }
        },
        {
          "output_type": "display_data",
          "data": {
            "image/png": "[encoded data removed]",
            "text/plain": [
              "<Figure size 432x288 with 1 Axes>"
            ]
          },
          "metadata": {
            "tags": [],
            "needs_background": "light"
          }
        }
      ]
    },
    {
      "cell_type": "markdown",
      "metadata": {
        "id": "HB9bOObqr-Z2"
      },
      "source": [
        "**Making Predictions**"
      ]
    },
    {
      "cell_type": "code",
      "metadata": {
        "id": "8EzcM6xma8_a"
      },
      "source": [
        "y_pred = model.predict(ED1) #external testing"
      ],
      "execution_count": null,
      "outputs": []
    },
    {
      "cell_type": "markdown",
      "metadata": {
        "id": "Aj1O_H9T6rZl"
      },
      "source": [
        "#**Recall Accuracy F1 Score**"
      ]
    },
    {
      "cell_type": "code",
      "metadata": {
        "colab": {
          "base_uri": "https://localhost:8080/"
        },
        "id": "wjeDlKLvjZq5",
        "outputId": "f6b2f253-2630-4bba-b0f2-ea2f8b70f329"
      },
      "source": [
        "from sklearn.metrics import accuracy_score,precision_score,recall_score,f1_score\n",
        "recall=round(recall_score(EL1, y_pred.round(), average='binary'),2)\n",
        "accuracy= round(accuracy_score(EL1, y_pred.round()),2)\n",
        "# precision= round(precision_score(y_test, y_pred.round(), average='binary'),2)\n",
        "F1Score= round(f1_score(EL1, y_pred.round(), average='binary'),2)\n",
        "print(\"recall=\", recall,'F1Score =',F1Score,'accuracy=',accuracy)"
      ],
      "execution_count": null,
      "outputs": [
        {
          "output_type": "stream",
          "text": [
            "recall= 0.79 F1Score = 0.85 accuracy= 0.86\n"
          ],
          "name": "stdout"
        }
      ]
    },
    {
      "cell_type": "markdown",
      "metadata": {
        "id": "KTbhOXj2dba-"
      },
      "source": [
        "**Classification Report**"
      ]
    },
    {
      "cell_type": "code",
      "metadata": {
        "id": "zpft43tbdejk",
        "colab": {
          "base_uri": "https://localhost:8080/"
        },
        "outputId": "032096d9-4e6a-4912-ccbf-bf9513996755"
      },
      "source": [
        "from sklearn.metrics import roc_auc_score,classification_report\n",
        "print(classification_report(EL1, y_pred.round()))"
      ],
      "execution_count": null,
      "outputs": [
        {
          "output_type": "stream",
          "text": [
            "              precision    recall  f1-score   support\n",
            "\n",
            "         0.0       0.81      0.92      0.86      1414\n",
            "         1.0       0.92      0.79      0.85      1479\n",
            "\n",
            "    accuracy                           0.86      2893\n",
            "   macro avg       0.86      0.86      0.86      2893\n",
            "weighted avg       0.86      0.86      0.86      2893\n",
            "\n"
          ],
          "name": "stdout"
        }
      ]
    },
    {
      "cell_type": "markdown",
      "metadata": {
        "id": "9v2oEtPpsEBr"
      },
      "source": [
        "#**Sensitivity, Specificity, Precision**"
      ]
    },
    {
      "cell_type": "code",
      "metadata": {
        "colab": {
          "base_uri": "https://localhost:8080/"
        },
        "id": "YbRt3u1noK9s",
        "outputId": "064084e0-0d5e-4062-fc58-80fed0dee35c"
      },
      "source": [
        "import pandas as pd\n",
        "from sklearn import metrics\n",
        "# Creating the confusion matrix\n",
        "cm = metrics.confusion_matrix(EL1, y_pred.round())\n",
        "# Assigning columns names\n",
        "cm_df = pd.DataFrame(cm,\n",
        "            columns = ['Predicted Negative', 'Predicted Positive'],\n",
        "            index = ['Actual Negative', 'Actual Positive'])\n",
        "TP = cm[1][1]\n",
        "TN = cm[0][0]\n",
        "FP = cm[0][1]\n",
        "FN = cm[1][0]\n",
        "print('True Positives:', TP)\n",
        "print('True Negatives:', TN)\n",
        "print('False Positives:', FP)\n",
        "print('False Negatives:', FN)\n",
        "\n",
        "    # calculate the sensitivity\n",
        "conf_sensitivity = (TP / float(TP + FN))\n",
        "    # calculate the specificity\n",
        "conf_specificity = (TN / float(TN + FP))\n",
        "\n",
        "    # calculate precision\n",
        "conf_precision = (TN / float(TN + FP))\n",
        "\n",
        "print('-'*50)\n",
        "print(f'Sensitivity: {round(conf_sensitivity,2)}')\n",
        "print(f'Specificity: {round(conf_specificity,2)}')\n",
        "print(f'Precision: {round(conf_precision,2)}')\n"
      ],
      "execution_count": null,
      "outputs": [
        {
          "output_type": "stream",
          "text": [
            "True Positives: 1172\n",
            "True Negatives: 1307\n",
            "False Positives: 107\n",
            "False Negatives: 307\n",
            "--------------------------------------------------\n",
            "Sensitivity: 0.79\n",
            "Specificity: 0.92\n",
            "Precision: 0.92\n"
          ],
          "name": "stdout"
        }
      ]
    },
    {
      "cell_type": "markdown",
      "metadata": {
        "id": "_G-0Ojf4f0T3"
      },
      "source": [
        "**AUC Score**"
      ]
    },
    {
      "cell_type": "code",
      "metadata": {
        "colab": {
          "base_uri": "https://localhost:8080/"
        },
        "id": "js9B5NskfEkE",
        "outputId": "124bf41f-2c01-493c-c1bf-8a971c983cbe"
      },
      "source": [
        "from sklearn.metrics import roc_auc_score\n",
        "\n",
        "# auc scores\n",
        "auc_score1 = roc_auc_score(EL1, y_pred[:])\n",
        "print(round(auc_score1,2))"
      ],
      "execution_count": null,
      "outputs": [
        {
          "output_type": "stream",
          "text": [
            "0.94\n"
          ],
          "name": "stdout"
        }
      ]
    },
    {
      "cell_type": "markdown",
      "metadata": {
        "id": "ny5VS6qNi2CE"
      },
      "source": [
        "**ROC CURVE**"
      ]
    },
    {
      "cell_type": "code",
      "metadata": {
        "colab": {
          "base_uri": "https://localhost:8080/",
          "height": 279
        },
        "id": "XFtuqo8-g42G",
        "outputId": "cdf2c325-a193-4dc0-bb46-5f3904655fcc"
      },
      "source": [
        "import matplotlib.pyplot as plt\n",
        "from sklearn.metrics import roc_curve\n",
        "from sklearn import metrics\n",
        "fpr, tpr, thresholds = metrics.roc_curve(EL1, y_pred)\n",
        "roc_auc = metrics.auc(fpr, tpr)\n",
        "display = metrics.RocCurveDisplay(fpr=fpr, tpr=tpr, roc_auc=roc_auc,estimator_name='CNN')\n",
        "display.plot()\n",
        "# plt.savefig('E260ROC.png')\n",
        "plt.show()"
      ],
      "execution_count": null,
      "outputs": [
        {
          "output_type": "display_data",
          "data": {
            "image/png": "[encoded data removed]",
            "text/plain": [
              "<Figure size 432x288 with 1 Axes>"
            ]
          },
          "metadata": {
            "tags": [],
            "needs_background": "light"
          }
        }
      ]
    },
    {
      "cell_type": "markdown",
      "metadata": {
        "id": "kfP3xa-5oGS3"
      },
      "source": [
        "**Confusion Metrice**"
      ]
    },
    {
      "cell_type": "code",
      "metadata": {
        "colab": {
          "base_uri": "https://localhost:8080/",
          "height": 350
        },
        "id": "6Of9dfjmsOtz",
        "outputId": "fb94e256-5958-4cc4-e652-fdd2500b02b9"
      },
      "source": [
        "from sklearn.metrics import confusion_matrix\n",
        "import sklearn.metrics\n",
        "import seaborn as sns\n",
        "\n",
        "cnf_matrix = confusion_matrix(EL1, y_pred.round())\n",
        "labels_array = ['0', '1']\n",
        "fig, ax = plt.subplots(1,figsize=(5,5))\n",
        "ax = sns.heatmap(cnf_matrix, ax=ax, cmap=plt.cm.Greens, annot=True)\n",
        "ax.set_xticklabels(labels_array)\n",
        "ax.set_yticklabels(labels_array)\n",
        "plt.title('Confusion matrix of testing set')\n",
        "plt.ylabel('True digit')\n",
        "plt.xlabel('Predicted digit')\n",
        "plt.savefig('E260CM.png')\n",
        "plt.show();"
      ],
      "execution_count": null,
      "outputs": [
        {
          "output_type": "display_data",
          "data": {
            "image/png": "[encoded data removed]",
            "text/plain": [
              "<Figure size 360x360 with 2 Axes>"
            ]
          },
          "metadata": {
            "tags": [],
            "needs_background": "light"
          }
        }
      ]
    }
  ]
}